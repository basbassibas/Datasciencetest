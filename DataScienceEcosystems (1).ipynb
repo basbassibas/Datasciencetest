{
 "cells": [
  {
   "cell_type": "markdown",
   "id": "4a779b1f-421d-4735-ba98-d57b03ea0271",
   "metadata": {},
   "source": [
    "# Data Science Tools and Ecosystem"
   ]
  },
  {
   "cell_type": "markdown",
   "id": "270830f5-b281-4bec-b482-4b21e0039351",
   "metadata": {},
   "source": [
    "In this notebook, Data Science Tools and Ecosystem are summarized."
   ]
  },
  {
   "cell_type": "markdown",
   "id": "80b60929-217e-4d15-ad42-c4755621587c",
   "metadata": {},
   "source": [
    "Some of the popular languages that Data Scientists use are:\n",
    "\n",
    "1. **Python**\n",
    "\n",
    "2. **Julia**\n",
    "\n",
    "3. **R**\n",
    "\n",
    "4. **Java**\n",
    "\n",
    "5. **C++**\n",
    "\n",
    "6. **SQL**"
   ]
  },
  {
   "cell_type": "markdown",
   "id": "a243f5e8-ced4-4f69-a3fd-41e9d8fb5d65",
   "metadata": {},
   "source": [
    "Some of the commonly used libraries used by Data Scientists include:\n",
    "\n",
    "1. **Numpy**\n",
    "\n",
    "2. **Pandas**\n",
    "\n",
    "3. **Matplotlib**\n",
    "\n",
    "4. **Plotly**\n",
    "\n",
    "5. **scikit-learn**\n",
    "\n",
    "6. **TensorFlow**"
   ]
  },
  {
   "cell_type": "markdown",
   "id": "e858b40d-6d33-4132-933b-c21d81c0b98a",
   "metadata": {},
   "source": [
    "|Data Science Tools|\n",
    "|------|\n",
    "|1. **Jupyter Notebooks**|\n",
    "|2. **RStudio**|\n",
    "|3. **VSCode**|"
   ]
  },
  {
   "cell_type": "markdown",
   "id": "1b7ccf9d-d2f9-4582-a751-520bd4583bab",
   "metadata": {},
   "source": [
    "### Below are a few examples of evaluating arithmetic expressions in Python."
   ]
  },
  {
   "cell_type": "code",
   "execution_count": 1,
   "id": "7779208b-6ec6-48ae-9a28-06d812dd5166",
   "metadata": {
    "tags": []
   },
   "outputs": [
    {
     "data": {
      "text/plain": [
       "<function print>"
      ]
     },
     "execution_count": 1,
     "metadata": {},
     "output_type": "execute_result"
    }
   ],
   "source": [
    "formula <- (3*4)+5\n",
    "\n",
    "print(formula)"
   ]
  },
  {
   "cell_type": "code",
   "execution_count": null,
   "id": "82177ebc-d4da-410c-ad63-5886bf82669b",
   "metadata": {},
   "outputs": [],
   "source": []
  }
 ],
 "metadata": {
  "kernelspec": {
   "display_name": "Python",
   "language": "python",
   "name": "conda-env-python-py"
  },
  "language_info": {
   "codemirror_mode": {
    "name": "ipython",
    "version": 3
   },
   "file_extension": ".py",
   "mimetype": "text/x-python",
   "name": "python",
   "nbconvert_exporter": "python",
   "pygments_lexer": "ipython3",
   "version": "3.7.12"
  }
 },
 "nbformat": 4,
 "nbformat_minor": 5
}
