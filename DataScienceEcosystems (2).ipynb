{
 "cells": [
  {
   "cell_type": "markdown",
   "id": "4a779b1f-421d-4735-ba98-d57b03ea0271",
   "metadata": {},
   "source": [
    "# Data Science Tools and Ecosystem"
   ]
  },
  {
   "cell_type": "markdown",
   "id": "270830f5-b281-4bec-b482-4b21e0039351",
   "metadata": {},
   "source": [
    "In this notebook, Data Science Tools and Ecosystem are summarized."
   ]
  },
  {
   "cell_type": "markdown",
   "id": "80b60929-217e-4d15-ad42-c4755621587c",
   "metadata": {},
   "source": [
    "Some of the popular languages that Data Scientists use are:\n",
    "\n",
    "1. **Python**\n",
    "\n",
    "2. **Julia**\n",
    "\n",
    "3. **R**\n",
    "\n",
    "4. **Java**\n",
    "\n",
    "5. **C++**\n",
    "\n",
    "6. **SQL**"
   ]
  },
  {
   "cell_type": "markdown",
   "id": "a243f5e8-ced4-4f69-a3fd-41e9d8fb5d65",
   "metadata": {},
   "source": [
    "Some of the commonly used libraries used by Data Scientists include:\n",
    "\n",
    "1. **Numpy**\n",
    "\n",
    "2. **Pandas**\n",
    "\n",
    "3. **Matplotlib**\n",
    "\n",
    "4. **Plotly**\n",
    "\n",
    "5. **scikit-learn**\n",
    "\n",
    "6. **TensorFlow**"
   ]
  },
  {
   "cell_type": "markdown",
   "id": "e858b40d-6d33-4132-933b-c21d81c0b98a",
   "metadata": {
    "tags": []
   },
   "source": [
    "|Data Science Tools|\n",
    "|------|\n",
    "|1. **Jupyter Notebooks**|\n",
    "|2. **RStudio**|\n",
    "|3. **VSCode**|"
   ]
  },
  {
   "cell_type": "markdown",
   "id": "1b7ccf9d-d2f9-4582-a751-520bd4583bab",
   "metadata": {},
   "source": [
    "### Below are a few examples of evaluating arithmetic expressions in Python."
   ]
  },
  {
   "cell_type": "code",
   "execution_count": 10,
   "id": "7779208b-6ec6-48ae-9a28-06d812dd5166",
   "metadata": {
    "tags": []
   },
   "outputs": [
    {
     "data": {
      "text/plain": [
       "17"
      ]
     },
     "execution_count": 10,
     "metadata": {},
     "output_type": "execute_result"
    }
   ],
   "source": [
    "#This a simple arithmetic expression to mutiply then add integers\n",
    "(3*4)+5"
   ]
  },
  {
   "cell_type": "code",
   "execution_count": 11,
   "id": "82177ebc-d4da-410c-ad63-5886bf82669b",
   "metadata": {
    "tags": []
   },
   "outputs": [
    {
     "name": "stdout",
     "output_type": "stream",
     "text": [
      "3.3333333333333335\n"
     ]
    }
   ],
   "source": [
    "#This will convert 200 minutes to hours by dividing by 60.\n",
    "minutes = 200\n",
    "hours = minutes/60\n",
    "print(hours)"
   ]
  },
  {
   "cell_type": "markdown",
   "id": "d22499a7-928a-4083-af08-864bb7006132",
   "metadata": {},
   "source": [
    "**Objectives:**\n",
    "\n",
    "- Learn a mix of Python, R, Julia, Java.\n",
    "- Explore different tools used by Data Scientist eg. Jupyter, RStation,VSCode.\n",
    "- Implement basic conversions. eg. minutes to hours.\n",
    "- Create informative markdown cells to enhance the value of your work."
   ]
  },
  {
   "cell_type": "markdown",
   "id": "8e8ded67-7ec9-4b2a-aaa4-972c85127036",
   "metadata": {},
   "source": [
    "## Author\n",
    "Julien Quirion"
   ]
  },
  {
   "cell_type": "code",
   "execution_count": null,
   "id": "0496cae6-f142-4280-aca4-fbbfb168f02e",
   "metadata": {},
   "outputs": [],
   "source": []
  }
 ],
 "metadata": {
  "kernelspec": {
   "display_name": "Python",
   "language": "python",
   "name": "conda-env-python-py"
  },
  "language_info": {
   "codemirror_mode": {
    "name": "ipython",
    "version": 3
   },
   "file_extension": ".py",
   "mimetype": "text/x-python",
   "name": "python",
   "nbconvert_exporter": "python",
   "pygments_lexer": "ipython3",
   "version": "3.7.12"
  }
 },
 "nbformat": 4,
 "nbformat_minor": 5
}
